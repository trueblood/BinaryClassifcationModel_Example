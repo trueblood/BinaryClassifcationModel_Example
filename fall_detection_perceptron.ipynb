{
 "cells": [
  {
   "cell_type": "markdown",
   "id": "e8a183c9-100f-423c-859a-726fa687c1d2",
   "metadata": {},
   "source": [
    "Project Name:\n",
    "Fall Detection with Perceptron\n",
    "\n",
    "Filename:\n",
    "fall_detection_perceptron.py\n",
    "\n",
    "Short Description:\n",
    "This project uses a Perceptron model to detect falls based on incident descriptions. The text data is vectorized using TF-IDF and then classified as a fall or non-fall using the perceptron learning rule. The model can predict fall events based on incident text, offering a simple yet effective method for classification.\n",
    "\n",
    "Perceptron Learning Rule:\n",
    "The perceptron learning rule updates the model's weights incrementally based on the error in prediction. If the perceptron makes an incorrect prediction, the weights are adjusted by adding the product of the learning rate, the input vector, and the difference between the actual and predicted output. This process continues until the model converges to a solution or reaches the maximum number of iterations."
   ]
  },
  {
   "cell_type": "code",
   "execution_count": 1,
   "id": "4d2bbf6e",
   "metadata": {},
   "outputs": [
    {
     "name": "stdout",
     "output_type": "stream",
     "text": [
      "Defaulting to user installation because normal site-packages is not writeable\n",
      "Requirement already satisfied: pandas in /Users/squeebit/Library/Python/3.9/lib/python/site-packages (2.2.3)\n",
      "Requirement already satisfied: tzdata>=2022.7 in /Users/squeebit/Library/Python/3.9/lib/python/site-packages (from pandas) (2024.2)\n",
      "Requirement already satisfied: python-dateutil>=2.8.2 in /Users/squeebit/Library/Python/3.9/lib/python/site-packages (from pandas) (2.9.0.post0)\n",
      "Requirement already satisfied: pytz>=2020.1 in /Users/squeebit/Library/Python/3.9/lib/python/site-packages (from pandas) (2024.2)\n",
      "Requirement already satisfied: numpy>=1.22.4 in /Users/squeebit/Library/Python/3.9/lib/python/site-packages (from pandas) (2.0.2)\n",
      "Requirement already satisfied: six>=1.5 in /Library/Developer/CommandLineTools/Library/Frameworks/Python3.framework/Versions/3.9/lib/python3.9/site-packages (from python-dateutil>=2.8.2->pandas) (1.15.0)\n",
      "\u001b[33mWARNING: You are using pip version 21.2.4; however, version 24.2 is available.\n",
      "You should consider upgrading via the '/Library/Developer/CommandLineTools/usr/bin/python3 -m pip install --upgrade pip' command.\u001b[0m\n",
      "Defaulting to user installation because normal site-packages is not writeable\n",
      "Requirement already satisfied: scikit-learn in /Users/squeebit/Library/Python/3.9/lib/python/site-packages (1.5.2)\n",
      "Requirement already satisfied: threadpoolctl>=3.1.0 in /Users/squeebit/Library/Python/3.9/lib/python/site-packages (from scikit-learn) (3.5.0)\n",
      "Requirement already satisfied: joblib>=1.2.0 in /Users/squeebit/Library/Python/3.9/lib/python/site-packages (from scikit-learn) (1.4.2)\n",
      "Requirement already satisfied: scipy>=1.6.0 in /Users/squeebit/Library/Python/3.9/lib/python/site-packages (from scikit-learn) (1.13.1)\n",
      "Requirement already satisfied: numpy>=1.19.5 in /Users/squeebit/Library/Python/3.9/lib/python/site-packages (from scikit-learn) (2.0.2)\n",
      "\u001b[33mWARNING: You are using pip version 21.2.4; however, version 24.2 is available.\n",
      "You should consider upgrading via the '/Library/Developer/CommandLineTools/usr/bin/python3 -m pip install --upgrade pip' command.\u001b[0m\n"
     ]
    }
   ],
   "source": [
    "!pip3 install pandas\n",
    "!pip3 install scikit-learn"
   ]
  },
  {
   "cell_type": "code",
   "execution_count": 2,
   "id": "323fc7ed-a895-4a75-8a06-846d87693536",
   "metadata": {
    "tags": []
   },
   "outputs": [
    {
     "name": "stdout",
     "output_type": "stream",
     "text": [
      "Classification Report:\n",
      "               precision    recall  f1-score   support\n",
      "\n",
      "           0       0.68      0.83      0.75      1090\n",
      "           1       0.91      0.82      0.86      2304\n",
      "\n",
      "    accuracy                           0.82      3394\n",
      "   macro avg       0.80      0.83      0.81      3394\n",
      "weighted avg       0.84      0.82      0.83      3394\n",
      "\n",
      "Prediction for 'This is a fall': [1]\n",
      "Prediction for 'This is not a fall': [1]\n",
      "Prediction for 'sky': [0]\n",
      "Prediction for 'I flew to the mall': [0]\n",
      "Prediction for 'I slipped in mud': [1]\n"
     ]
    }
   ],
   "source": [
    "import pandas as pd\n",
    "from sklearn.feature_extraction.text import TfidfVectorizer\n",
    "from sklearn.model_selection import train_test_split\n",
    "from sklearn.linear_model import Perceptron\n",
    "from sklearn.metrics import classification_report\n",
    "\n",
    "# Load the dataset\n",
    "fall_data = pd.read_csv(\"data/fall_data_v1.csv\")\n",
    "\n",
    "# Remove rows with missing or NaN values in the 'Description' column\n",
    "fall_data_cleaned = fall_data.dropna(subset=['Description'])\n",
    "\n",
    "# Extract features and target from the cleaned dataset\n",
    "X_cleaned = fall_data_cleaned['Description']\n",
    "y_cleaned = fall_data_cleaned['isFallFlg']\n",
    "\n",
    "# Vectorize the cleaned text data using TF-IDF\n",
    "vectorizer = TfidfVectorizer(stop_words='english', max_features=500)\n",
    "X_vectorized_cleaned = vectorizer.fit_transform(X_cleaned)\n",
    "\n",
    "# Split the cleaned data into training and testing sets\n",
    "X_train_cleaned, X_test_cleaned, y_train_cleaned, y_test_cleaned = train_test_split(X_vectorized_cleaned, y_cleaned, test_size=0.2, random_state=42)\n",
    "\n",
    "# Initialize and train the perceptron model\n",
    "perceptron_model = Perceptron(max_iter=1000, random_state=42)\n",
    "perceptron_model.fit(X_train_cleaned, y_train_cleaned)\n",
    "\n",
    "# Make predictions on the test set\n",
    "y_pred_cleaned = perceptron_model.predict(X_test_cleaned)\n",
    "\n",
    "# Generate and display the classification report\n",
    "report_cleaned = classification_report(y_test_cleaned, y_pred_cleaned)\n",
    "print(\"Classification Report:\\n\", report_cleaned)\n",
    "\n",
    "# Test with sample inputs\n",
    "def predict_fall(description):\n",
    "    test_input_vectorized = vectorizer.transform([description])\n",
    "    prediction = perceptron_model.predict(test_input_vectorized)\n",
    "    return prediction\n",
    "\n",
    "# Test with various inputs\n",
    "print(\"Prediction for 'This is a fall':\", predict_fall(\"This is a fall\"))\n",
    "print(\"Prediction for 'This is not a fall':\", predict_fall(\"This is not a fall\"))\n",
    "print(\"Prediction for 'sky':\", predict_fall(\"sky\"))\n",
    "print(\"Prediction for 'I flew to the mall':\", predict_fall(\"I flew to the mall\"))\n",
    "print(\"Prediction for 'I slipped in mud':\", predict_fall(\"I slipped in mud\"))\n"
   ]
  },
  {
   "cell_type": "code",
   "execution_count": null,
   "id": "0fb5ffe0-e64f-4d4b-ac3c-899e19731cdd",
   "metadata": {},
   "outputs": [],
   "source": []
  }
 ],
 "metadata": {
  "environment": {
   "kernel": "python3",
   "name": "tf2-cpu.2-11.m122",
   "type": "gcloud",
   "uri": "us-docker.pkg.dev/deeplearning-platform-release/gcr.io/tf2-cpu.2-11:m122"
  },
  "kernelspec": {
   "display_name": "Python 3 (Local)",
   "language": "python",
   "name": "python3"
  },
  "language_info": {
   "codemirror_mode": {
    "name": "ipython",
    "version": 3
   },
   "file_extension": ".py",
   "mimetype": "text/x-python",
   "name": "python",
   "nbconvert_exporter": "python",
   "pygments_lexer": "ipython3",
   "version": "3.9.6"
  }
 },
 "nbformat": 4,
 "nbformat_minor": 5
}
